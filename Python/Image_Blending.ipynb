{
  "nbformat": 4,
  "nbformat_minor": 0,
  "metadata": {
    "colab": {
      "provenance": []
    },
    "kernelspec": {
      "name": "python3",
      "display_name": "Python 3"
    },
    "language_info": {
      "name": "python"
    }
  },
  "cells": [
    {
      "cell_type": "code",
      "execution_count": null,
      "metadata": {
        "id": "ZVhNLwoTVYPc"
      },
      "outputs": [],
      "source": [
        "import cv2\n",
        "import numpy as np\n",
        "import pandas as pd\n"
      ]
    },
    {
      "cell_type": "code",
      "source": [
        "src1 = cv2.imread(\"lena.jpg\")  #test image 1\n",
        "src2 = cv2.imread(\"rocket.jpg\") #test image 2\n",
        "\n",
        "src2 = cv2.resize(src2, src1.shape[1::-1])  #making both images of equal size"
      ],
      "metadata": {
        "id": "fuBN_h7hVfkx",
        "colab": {
          "base_uri": "https://localhost:8080/"
        },
        "outputId": "e97cd4d8-be32-405e-e789-2494dd9a38ae"
      },
      "execution_count": null,
      "outputs": [
        {
          "output_type": "error",
          "ename": "AttributeError",
          "evalue": "ignored",
          "traceback": [
            "\u001b[0;31m---------------------------------------------------------------------------\u001b[0m",
            "\u001b[0;31mAttributeError\u001b[0m                            Traceback (most recent call last)",
            "\u001b[0;32m<ipython-input-3-8d199af1f367>\u001b[0m in \u001b[0;36m<module>\u001b[0;34m\u001b[0m\n\u001b[1;32m      2\u001b[0m \u001b[0msrc2\u001b[0m \u001b[0;34m=\u001b[0m \u001b[0mcv2\u001b[0m\u001b[0;34m.\u001b[0m\u001b[0mimread\u001b[0m\u001b[0;34m(\u001b[0m\u001b[0;34m\"rocket.jpg\"\u001b[0m\u001b[0;34m)\u001b[0m \u001b[0;31m#test image 2\u001b[0m\u001b[0;34m\u001b[0m\u001b[0;34m\u001b[0m\u001b[0m\n\u001b[1;32m      3\u001b[0m \u001b[0;34m\u001b[0m\u001b[0m\n\u001b[0;32m----> 4\u001b[0;31m \u001b[0msrc2\u001b[0m \u001b[0;34m=\u001b[0m \u001b[0mcv2\u001b[0m\u001b[0;34m.\u001b[0m\u001b[0mresize\u001b[0m\u001b[0;34m(\u001b[0m\u001b[0msrc2\u001b[0m\u001b[0;34m,\u001b[0m \u001b[0msrc1\u001b[0m\u001b[0;34m.\u001b[0m\u001b[0mshape\u001b[0m\u001b[0;34m[\u001b[0m\u001b[0;36m1\u001b[0m\u001b[0;34m:\u001b[0m\u001b[0;34m:\u001b[0m\u001b[0;34m-\u001b[0m\u001b[0;36m1\u001b[0m\u001b[0;34m]\u001b[0m\u001b[0;34m)\u001b[0m  \u001b[0;31m#making both images of equal size\u001b[0m\u001b[0;34m\u001b[0m\u001b[0;34m\u001b[0m\u001b[0m\n\u001b[0m",
            "\u001b[0;31mAttributeError\u001b[0m: 'NoneType' object has no attribute 'shape'"
          ]
        }
      ]
    },
    {
      "cell_type": "code",
      "source": [
        "\n"
      ],
      "metadata": {
        "id": "Ngs77qMvVodM"
      },
      "execution_count": null,
      "outputs": []
    },
    {
      "cell_type": "code",
      "source": [
        "print(src1.shape)  #images are saved as rbg\n",
        "src2.shape\n"
      ],
      "metadata": {
        "colab": {
          "base_uri": "https://localhost:8080/"
        },
        "id": "24PhfITnVq7k",
        "outputId": "529666c5-b2dc-40db-8252-82d2308e6c95"
      },
      "execution_count": null,
      "outputs": [
        {
          "output_type": "stream",
          "name": "stdout",
          "text": [
            "(225, 400, 3)\n"
          ]
        },
        {
          "output_type": "execute_result",
          "data": {
            "text/plain": [
              "(225, 400, 3)"
            ]
          },
          "metadata": {},
          "execution_count": 32
        }
      ]
    },
    {
      "cell_type": "code",
      "source": [
        "g1= cv2.cvtColor(src1, cv2.COLOR_BGR2GRAY)  #converting rbg to gray scale\n",
        "g2= cv2.cvtColor(src2, cv2.COLOR_BGR2GRAY)\n"
      ],
      "metadata": {
        "id": "BMf00LXyVtlp"
      },
      "execution_count": null,
      "outputs": []
    },
    {
      "cell_type": "code",
      "source": [
        "print(g1.shape)  # 2x2 matrix\n",
        "g2.shape"
      ],
      "metadata": {
        "colab": {
          "base_uri": "https://localhost:8080/"
        },
        "id": "q5LFcOTzV2DC",
        "outputId": "447ffa34-5048-4e37-e74d-c2fa8ccc73d8"
      },
      "execution_count": null,
      "outputs": [
        {
          "output_type": "stream",
          "name": "stdout",
          "text": [
            "(225, 400)\n"
          ]
        },
        {
          "output_type": "execute_result",
          "data": {
            "text/plain": [
              "(225, 400)"
            ]
          },
          "metadata": {},
          "execution_count": 34
        }
      ]
    },
    {
      "cell_type": "code",
      "source": [
        "alph = g1\n",
        "for i in range(0,225):                #image blending\n",
        "    for j in range(0,400):\n",
        "        alph[i,j]=(g1[i,j]*0.5)+(g2[i,j]*0.5)    "
      ],
      "metadata": {
        "id": "9nVr_XsRV3wZ"
      },
      "execution_count": null,
      "outputs": []
    },
    {
      "cell_type": "code",
      "source": [
        "from google.colab.patches import cv2_imshow\n",
        "#cv2.imshow(\"alpha blend\",alph)   #output image alpha\n"
      ],
      "metadata": {
        "id": "8t3KeKMMV5pK"
      },
      "execution_count": null,
      "outputs": []
    },
    {
      "cell_type": "markdown",
      "source": [
        "Here on Munzal code"
      ],
      "metadata": {
        "id": "K1bgqhXXtSSY"
      }
    },
    {
      "cell_type": "code",
      "source": [
        "prods = [0,1,2,3,4,5]\n",
        "prods[0] = np.loadtxt('result_chandaka.txt', delimiter=',')\n",
        "prods[1] = np.loadtxt('result_prob.txt', delimiter=',')\n",
        "prods[2] = np.loadtxt('result_our_design_mwtm.txt', delimiter=',')\n",
        "prods[3] = np.loadtxt('result_pro.txt', delimiter=',')\n",
        "prods[4] = np.loadtxt('result_pro_stage_3.txt', delimiter=',')\n",
        "prods[5] = np.loadtxt('result_pro_stage_4.txt', delimiter=',')"
      ],
      "metadata": {
        "id": "V3oIq9jN0CDZ"
      },
      "execution_count": null,
      "outputs": []
    },
    {
      "cell_type": "code",
      "source": [
        "mul = [0,1,2,3,4,5]\n",
        "mul[0] = np.zeros((256,256)) #this array keeps all the products calculated from Verilog\n",
        "mul[1] = np.zeros((256,256))\n",
        "mul[2] = np.zeros((256,256))\n",
        "mul[3] = np.zeros((256,256))\n",
        "mul[4] = np.zeros((256,256))\n",
        "mul[5] = np.zeros((256,256))"
      ],
      "metadata": {
        "id": "q5pb5_xa0N9q"
      },
      "execution_count": null,
      "outputs": []
    },
    {
      "cell_type": "code",
      "source": [
        "for z in range(0,6):\n",
        "  for i in range(0,32640):\n",
        "    a = int(prods[z][i][0])\n",
        "    b = int(prods[z][i][1])\n",
        "    val = int(prods[z][i][2])\n",
        "    mul[z][a][b] = val\n",
        "    mul[z][b][a] = val"
      ],
      "metadata": {
        "id": "8wAWUFWutVM3"
      },
      "execution_count": null,
      "outputs": []
    },
    {
      "cell_type": "code",
      "source": [
        "np1 = np.zeros((225,400)) #output image\n",
        "filename = '/content/allImages/Img_output_100_156_256_'\n",
        "for z in range(0,6):\n",
        "  for i in range(0, 225):\n",
        "    for j in range(0,400):\n",
        "      np1[i][j] = (mul[z][g1[i][j]][70] + mul[z][g2[i][j]][58])/128  # here we use 5/8 and 3/8 as the fractions\n",
        "  cv2.imwrite(filename + str(z) + '.jpg', np1)\n"
      ],
      "metadata": {
        "id": "nHnq1lEguYY1"
      },
      "execution_count": null,
      "outputs": []
    },
    {
      "cell_type": "code",
      "source": [
        "!zip -r /content/allImages_23_2.zip /content/allImages\n"
      ],
      "metadata": {
        "colab": {
          "base_uri": "https://localhost:8080/"
        },
        "id": "NrAIBgaM6vKg",
        "outputId": "7fb47960-7de5-4220-8699-2c5f30854f71"
      },
      "execution_count": null,
      "outputs": [
        {
          "output_type": "stream",
          "name": "stdout",
          "text": [
            "  adding: content/allImages/ (stored 0%)\n",
            "  adding: content/allImages/Img_output_100_156_256_2.jpg (deflated 0%)\n",
            "  adding: content/allImages/Img_output_100_156_256_0.jpg (deflated 0%)\n",
            "  adding: content/allImages/.ipynb_checkpoints/ (stored 0%)\n",
            "  adding: content/allImages/Img_output_100_156_256_4.jpg (deflated 0%)\n",
            "  adding: content/allImages/Img_output_100_156_256_5.jpg (deflated 0%)\n",
            "  adding: content/allImages/Img_output_100_156_256_3.jpg (deflated 0%)\n",
            "  adding: content/allImages/Img_output_100_156_256_1.jpg (deflated 0%)\n"
          ]
        }
      ]
    },
    {
      "cell_type": "code",
      "source": [
        "from google.colab import files\n",
        "files.download(\"/content/allImages_23_1.zip\")"
      ],
      "metadata": {
        "colab": {
          "base_uri": "https://localhost:8080/",
          "height": 17
        },
        "id": "GXPt-W6G-Fas",
        "outputId": "b83ed0e4-77e4-481f-cf8f-ba40b44fbad5"
      },
      "execution_count": null,
      "outputs": [
        {
          "output_type": "display_data",
          "data": {
            "text/plain": [
              "<IPython.core.display.Javascript object>"
            ],
            "application/javascript": [
              "\n",
              "    async function download(id, filename, size) {\n",
              "      if (!google.colab.kernel.accessAllowed) {\n",
              "        return;\n",
              "      }\n",
              "      const div = document.createElement('div');\n",
              "      const label = document.createElement('label');\n",
              "      label.textContent = `Downloading \"${filename}\": `;\n",
              "      div.appendChild(label);\n",
              "      const progress = document.createElement('progress');\n",
              "      progress.max = size;\n",
              "      div.appendChild(progress);\n",
              "      document.body.appendChild(div);\n",
              "\n",
              "      const buffers = [];\n",
              "      let downloaded = 0;\n",
              "\n",
              "      const channel = await google.colab.kernel.comms.open(id);\n",
              "      // Send a message to notify the kernel that we're ready.\n",
              "      channel.send({})\n",
              "\n",
              "      for await (const message of channel.messages) {\n",
              "        // Send a message to notify the kernel that we're ready.\n",
              "        channel.send({})\n",
              "        if (message.buffers) {\n",
              "          for (const buffer of message.buffers) {\n",
              "            buffers.push(buffer);\n",
              "            downloaded += buffer.byteLength;\n",
              "            progress.value = downloaded;\n",
              "          }\n",
              "        }\n",
              "      }\n",
              "      const blob = new Blob(buffers, {type: 'application/binary'});\n",
              "      const a = document.createElement('a');\n",
              "      a.href = window.URL.createObjectURL(blob);\n",
              "      a.download = filename;\n",
              "      div.appendChild(a);\n",
              "      a.click();\n",
              "      div.remove();\n",
              "    }\n",
              "  "
            ]
          },
          "metadata": {}
        },
        {
          "output_type": "display_data",
          "data": {
            "text/plain": [
              "<IPython.core.display.Javascript object>"
            ],
            "application/javascript": [
              "download(\"download_0fc9ea30-70e5-48e9-8e31-576e6177cc50\", \"allImages_23_1.zip\", 216017)"
            ]
          },
          "metadata": {}
        }
      ]
    },
    {
      "cell_type": "code",
      "source": [],
      "metadata": {
        "id": "hUJfl88x-Ldf"
      },
      "execution_count": null,
      "outputs": []
    }
  ]
}