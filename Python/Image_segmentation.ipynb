{
  "cells": [
    {
      "cell_type": "code",
      "execution_count": null,
      "metadata": {
        "id": "R5oUXuQttEGz"
      },
      "outputs": [],
      "source": [
        "import cv2\n",
        "import numpy as np\n",
        "import pandas as pd"
      ]
    },
    {
      "cell_type": "code",
      "execution_count": null,
      "metadata": {
        "id": "XGDuxlMYtSrc"
      },
      "outputs": [],
      "source": [
        "src1 = cv2.imread(\"submarine1.jpg\")  #test image 1"
      ]
    },
    {
      "cell_type": "code",
      "source": [
        "prods = np.loadtxt('result_chandaka.txt', delimiter=',')\n",
        "prods.shape\n",
        "mul = np.zeros((256,256))\n",
        "for i in range(0,32640):\n",
        "    ax = int(prods[i][0])\n",
        "    bx = int(prods[i][1])\n",
        "    val = int(prods[i][2])\n",
        "    mul[ax][bx] = val\n",
        "    mul[bx][ax] = val"
      ],
      "metadata": {
        "id": "fUTQWz27X1Zm"
      },
      "execution_count": null,
      "outputs": []
    },
    {
      "cell_type": "code",
      "execution_count": null,
      "metadata": {
        "id": "KqC4C31CtjUX"
      },
      "outputs": [],
      "source": [
        "g1= cv2.cvtColor(src1, cv2.COLOR_BGR2GRAY)  #converting rbg to gray scale"
      ]
    },
    {
      "cell_type": "code",
      "source": [
        "cv2.imwrite('BW_Image' + '.jpg', g1)"
      ],
      "metadata": {
        "colab": {
          "base_uri": "https://localhost:8080/"
        },
        "id": "jex7Q9wVYBed",
        "outputId": "ac7f666e-4e4a-432d-fd14-c48ed9659157"
      },
      "execution_count": null,
      "outputs": [
        {
          "output_type": "execute_result",
          "data": {
            "text/plain": [
              "True"
            ]
          },
          "metadata": {},
          "execution_count": 79
        }
      ]
    },
    {
      "cell_type": "code",
      "execution_count": null,
      "metadata": {
        "id": "D8O6Ffylt1tM",
        "colab": {
          "base_uri": "https://localhost:8080/"
        },
        "outputId": "88ae67d3-ab7f-43d1-ceca-7213d9f7c903"
      },
      "outputs": [
        {
          "output_type": "stream",
          "name": "stdout",
          "text": [
            "(188, 250)\n"
          ]
        }
      ],
      "source": [
        "a,b = g1.shape\n",
        "print(g1.shape)  # 2x2 matrix"
      ]
    },
    {
      "cell_type": "code",
      "execution_count": null,
      "metadata": {
        "id": "pCbOgcLLt7b-",
        "colab": {
          "base_uri": "https://localhost:8080/"
        },
        "outputId": "42b0054a-be8f-4627-dcd5-d8f29c042eb6"
      },
      "outputs": [
        {
          "output_type": "execute_result",
          "data": {
            "text/plain": [
              "numpy.ndarray"
            ]
          },
          "metadata": {},
          "execution_count": 81
        }
      ],
      "source": [
        "type(g1)"
      ]
    },
    {
      "cell_type": "code",
      "execution_count": null,
      "metadata": {
        "id": "XhfHYVvxt8tr",
        "colab": {
          "base_uri": "https://localhost:8080/"
        },
        "outputId": "88569972-1528-4aa7-9c4c-25151bbb2441"
      },
      "outputs": [
        {
          "output_type": "execute_result",
          "data": {
            "text/plain": [
              "(47000, 3)"
            ]
          },
          "metadata": {},
          "execution_count": 82
        }
      ],
      "source": [
        "blob1 = np.zeros((a*b,3))\n",
        "ct = 0\n",
        "for i in range (0,a):\n",
        "  for j in range (0,b):\n",
        "    blob1[ct] = [i,j,g1[i][j]] # creating a blob out of image\n",
        "    ct = ct +1\n",
        "blob1.shape"
      ]
    },
    {
      "cell_type": "code",
      "execution_count": null,
      "metadata": {
        "id": "PO4bSO4AvRmM",
        "colab": {
          "base_uri": "https://localhost:8080/"
        },
        "outputId": "a85fc49c-cb9f-487b-9525-7074b975b7ad"
      },
      "outputs": [
        {
          "output_type": "stream",
          "name": "stdout",
          "text": [
            "[  4.   2. 157.]\n"
          ]
        },
        {
          "output_type": "execute_result",
          "data": {
            "text/plain": [
              "(256, 256)"
            ]
          },
          "metadata": {},
          "execution_count": 83
        }
      ],
      "source": [
        "print(blob1[1002])\n",
        "mul.shape"
      ]
    },
    {
      "cell_type": "code",
      "execution_count": null,
      "metadata": {
        "id": "pjZWMfVIvTMg"
      },
      "outputs": [],
      "source": [
        "import matplotlib.pyplot as plt\n",
        "max_x = 0"
      ]
    },
    {
      "cell_type": "code",
      "source": [
        "def euclidean_distance(x1,x2):\n",
        "  s = np.subtract(x1,x2)\n",
        "  sum = 0\n",
        "  for x in s:\n",
        "    if x > 255:\n",
        "      sum = sum + x**2\n",
        "    else:\n",
        "      x = int(x)\n",
        "      sum  = sum + mul[abs(x)][abs(x)]\n",
        "  return np.sqrt(sum)"
      ],
      "metadata": {
        "id": "eU_GfkKQ4tUi"
      },
      "execution_count": null,
      "outputs": []
    },
    {
      "cell_type": "code",
      "source": [
        "def euclidean_distance_1(x1, x2):\n",
        "    return np.sqrt(np.sum((x1-x2)**2))\n",
        "r = np.array([25, 16, 12])\n",
        "i = np.array([23, 187, 23])\n",
        "g = euclidean_distance_1(r,i)\n",
        "print(g)"
      ],
      "metadata": {
        "colab": {
          "base_uri": "https://localhost:8080/"
        },
        "id": "vPGzeMtQ0Rzf",
        "outputId": "bb97892b-17bc-45e8-ce52-fff6a96f4432"
      },
      "execution_count": null,
      "outputs": [
        {
          "output_type": "stream",
          "name": "stdout",
          "text": [
            "171.36510730017358\n"
          ]
        }
      ]
    },
    {
      "cell_type": "code",
      "execution_count": null,
      "metadata": {
        "id": "n1G6jPJHw27x"
      },
      "outputs": [],
      "source": [
        "class KMeans:\n",
        "\n",
        "    def __init__(self, K=5, max_iters=100, plot_steps=False):\n",
        "        self.K = K\n",
        "        self.max_iters = max_iters\n",
        "        self.plot_steps = plot_steps\n",
        "\n",
        "        # list of sample indices for each cluster\n",
        "        self.clusters = [[] for _ in range(self.K)]\n",
        "\n",
        "        # the centers (mean vector) for each cluster\n",
        "        self.centroids = []\n",
        "\n",
        "\n",
        "    def predict(self, X):\n",
        "        self.X = X\n",
        "        self.n_samples, self.n_features = X.shape\n",
        "\n",
        "        # initialize\n",
        "        random_sample_idxs = np.random.choice(self.n_samples, self.K, replace=False)\n",
        "        self.centroids = [self.X[idx] for idx in random_sample_idxs]\n",
        "\n",
        "        # optimize clusters\n",
        "        for _ in range(self.max_iters):\n",
        "            # assign samples to closest centroids (create clusters)\n",
        "            self.clusters = self._create_clusters(self.centroids)\n",
        "\n",
        "            if self.plot_steps:\n",
        "                self.plot()\n",
        "\n",
        "            # calculate new centroids from the clusters\n",
        "            centroids_old = self.centroids\n",
        "            self.centroids = self._get_centroids(self.clusters)\n",
        "\n",
        "            if self._is_converged(centroids_old, self.centroids):\n",
        "                break\n",
        "\n",
        "            if self.plot_steps:\n",
        "                self.plot()\n",
        "\n",
        "        # classify samples as the index of their clusters\n",
        "        return self._get_cluster_labels(self.clusters)\n",
        "\n",
        "\n",
        "    def _get_cluster_labels(self, clusters):\n",
        "        # each sample will get the label of the cluster it was assigned to\n",
        "        labels = np.empty(self.n_samples)\n",
        "        for cluster_idx, cluster in enumerate(clusters):\n",
        "            for sample_idx in cluster:\n",
        "                labels[sample_idx] = cluster_idx\n",
        "\n",
        "        return labels\n",
        "\n",
        "\n",
        "    def _create_clusters(self, centroids):\n",
        "        # assign the samples to the closest centroids\n",
        "        clusters = [[] for _ in range(self.K)]\n",
        "        for idx, sample in enumerate(self.X):\n",
        "            centroid_idx = self._closest_centroid(sample, centroids)\n",
        "            clusters[centroid_idx].append(idx)\n",
        "        return clusters\n",
        "\n",
        "    def _closest_centroid(self, sample, centroids):\n",
        "        # distance of the current sample to each centroid\n",
        "        distances = [euclidean_distance(sample, point) for point in centroids]\n",
        "        closest_idx = np.argmin(distances)\n",
        "        return closest_idx\n",
        "\n",
        "\n",
        "    def _get_centroids(self, clusters):\n",
        "        # assign mean value of clusters to centroids\n",
        "        centroids = np.zeros((self.K, self.n_features))\n",
        "        for cluster_idx, cluster in enumerate(clusters):\n",
        "            cluster_mean = np.mean(self.X[cluster], axis=0)\n",
        "            centroids[cluster_idx] = cluster_mean\n",
        "        return centroids\n",
        "\n",
        "    def _is_converged(self, centroids_old, centroids):\n",
        "        # distances between old and new centroids, for all centroids\n",
        "        distances = [euclidean_distance(centroids_old[i], centroids[i]) for i in range(self.K)]\n",
        "        return sum(distances) == 0\n",
        "\n",
        "    def plot(self):\n",
        "        fig, ax = plt.subplots(figsize=(12, 8))\n",
        "\n",
        "        for i, index in enumerate(self.clusters):\n",
        "            point = self.X[index].T\n",
        "            ax.scatter(*point)\n",
        "\n",
        "        for point in self.centroids:\n",
        "            ax.scatter(*point, marker=\"x\", color=\"black\", linewidth=2)\n",
        "\n",
        "        #plt.show()"
      ]
    },
    {
      "cell_type": "code",
      "execution_count": null,
      "metadata": {
        "id": "ZxWF7YyQw6XK"
      },
      "outputs": [],
      "source": [
        "divisions = 6\n",
        "k = KMeans(K=divisions, max_iters=200, plot_steps=False)\n",
        "y_pred = k.predict(blob1)\n",
        "\n",
        "#k.plot()"
      ]
    },
    {
      "cell_type": "code",
      "execution_count": null,
      "metadata": {
        "id": "PAxvksMEyaKu",
        "colab": {
          "base_uri": "https://localhost:8080/"
        },
        "outputId": "39567cca-50bf-4bd0-c440-26019e808790"
      },
      "outputs": [
        {
          "output_type": "execute_result",
          "data": {
            "text/plain": [
              "(47000,)"
            ]
          },
          "metadata": {},
          "execution_count": 89
        }
      ],
      "source": [
        "y_pred.shape"
      ]
    },
    {
      "cell_type": "code",
      "execution_count": null,
      "metadata": {
        "id": "U5_AsIrj1bmR"
      },
      "outputs": [],
      "source": [
        "ct = 0\n",
        "out_img1 = np.zeros((a,b))\n",
        "for i in range(0,a):\n",
        "  for j in range(0,b):\n",
        "    out_img1[i][j] = y_pred[ct]*int(256/divisions)\n",
        "    ct = ct + 1\n"
      ]
    },
    {
      "cell_type": "code",
      "execution_count": null,
      "metadata": {
        "id": "DIQEC4JP2Ni_",
        "colab": {
          "base_uri": "https://localhost:8080/"
        },
        "outputId": "75cfdfad-6da5-4fc6-b18c-79f5b07dd56d"
      },
      "outputs": [
        {
          "output_type": "execute_result",
          "data": {
            "text/plain": [
              "(188, 250)"
            ]
          },
          "metadata": {},
          "execution_count": 91
        }
      ],
      "source": [
        "out_img1.shape"
      ]
    },
    {
      "cell_type": "code",
      "execution_count": null,
      "metadata": {
        "id": "iAFMLI-U2RVo",
        "colab": {
          "base_uri": "https://localhost:8080/"
        },
        "outputId": "a00a6034-508b-4e97-aaa9-c94f0a0d9870"
      },
      "outputs": [
        {
          "output_type": "execute_result",
          "data": {
            "text/plain": [
              "True"
            ]
          },
          "metadata": {},
          "execution_count": 92
        }
      ],
      "source": [
        "cv2.imwrite('submarine_chandaka' + '.jpg', out_img1)"
      ]
    },
    {
      "cell_type": "code",
      "execution_count": null,
      "metadata": {
        "id": "he6gbBCy2djr",
        "colab": {
          "base_uri": "https://localhost:8080/"
        },
        "outputId": "c5ec3ab2-8d4a-4e88-90fc-99735eab74e0"
      },
      "outputs": [
        {
          "output_type": "execute_result",
          "data": {
            "text/plain": [
              "True"
            ]
          },
          "metadata": {},
          "execution_count": 93
        }
      ],
      "source": [
        "prods = np.loadtxt('result_pro.txt', delimiter=',')\n",
        "mul = np.zeros((256,256))\n",
        "for i in range(0,32640):\n",
        "    ax = int(prods[i][0])\n",
        "    bx = int(prods[i][1])\n",
        "    val = int(prods[i][2])\n",
        "    mul[ax][bx] = val\n",
        "    mul[bx][ax] = val\n",
        "\n",
        "k1 = KMeans(K=divisions, max_iters=200, plot_steps=False)\n",
        "y_pred1 = k1.predict(blob1)\n",
        "\n",
        "ctx = 0\n",
        "out_img2 = np.zeros((a,b))\n",
        "for i in range(0,a):\n",
        "  for j in range(0,b):\n",
        "    out_img2[i][j] = y_pred1[ctx]*int(256/divisions)\n",
        "    ctx = ctx + 1\n",
        "\n",
        "cv2.imwrite('ssubmarine_pro' + '.jpg', out_img2)"
      ]
    },
    {
      "cell_type": "code",
      "source": [
        "prods = np.loadtxt('result_our_design_mwtm.txt', delimiter=',')\n",
        "prods.shape\n",
        "mul = np.zeros((256,256))\n",
        "for i in range(0,32640):\n",
        "    ax = int(prods[i][0])\n",
        "    bx = int(prods[i][1])\n",
        "    val = int(prods[i][2])\n",
        "    mul[ax][bx] = val\n",
        "    mul[bx][ax] = val\n",
        "\n",
        "k = KMeans(K=divisions, max_iters=200, plot_steps=False)\n",
        "y_pred = k.predict(blob1)\n",
        "\n",
        "ct = 0\n",
        "out_img1 = np.zeros((a,b))\n",
        "for i in range(0,a):\n",
        "  for j in range(0,b):\n",
        "    out_img1[i][j] = y_pred[ct]*int(256/divisions)\n",
        "    ct = ct + 1\n",
        "\n",
        "cv2.imwrite('submarine_our_design_mwtm' + '.jpg', out_img1)"
      ],
      "metadata": {
        "colab": {
          "base_uri": "https://localhost:8080/"
        },
        "id": "GfJe-q4s9PyA",
        "outputId": "5648fc94-c88f-4dbc-8c7c-1c836a3179c1"
      },
      "execution_count": null,
      "outputs": [
        {
          "output_type": "execute_result",
          "data": {
            "text/plain": [
              "True"
            ]
          },
          "metadata": {},
          "execution_count": 94
        }
      ]
    },
    {
      "cell_type": "code",
      "source": [
        "prods = np.loadtxt('result_prob.txt', delimiter=',')\n",
        "prods.shape\n",
        "mul = np.zeros((256,256))\n",
        "for i in range(0,32640):\n",
        "    ax = int(prods[i][0])\n",
        "    bx = int(prods[i][1])\n",
        "    val = int(prods[i][2])\n",
        "    mul[ax][bx] = val\n",
        "    mul[bx][ax] = val\n",
        "\n",
        "k = KMeans(K=divisions, max_iters=200, plot_steps=False)\n",
        "y_pred = k.predict(blob1)\n",
        "\n",
        "ct = 0\n",
        "out_img1 = np.zeros((a,b))\n",
        "for i in range(0,a):\n",
        "  for j in range(0,b):\n",
        "    out_img1[i][j] = y_pred[ct]*int(256/divisions)\n",
        "    ct = ct + 1\n",
        "\n",
        "cv2.imwrite('submarine_prob' + '.jpg', out_img1)"
      ],
      "metadata": {
        "colab": {
          "base_uri": "https://localhost:8080/"
        },
        "id": "UXyrV0tQ9Win",
        "outputId": "a3222c7d-74f6-4c48-e820-e5d7d29f628e"
      },
      "execution_count": null,
      "outputs": [
        {
          "output_type": "execute_result",
          "data": {
            "text/plain": [
              "True"
            ]
          },
          "metadata": {},
          "execution_count": 95
        }
      ]
    },
    {
      "cell_type": "code",
      "source": [
        "prods = np.loadtxt('result_pro_stage_3.txt', delimiter=',')\n",
        "prods.shape\n",
        "mul = np.zeros((256,256))\n",
        "for i in range(0,32640):\n",
        "    ax = int(prods[i][0])\n",
        "    bx = int(prods[i][1])\n",
        "    val = int(prods[i][2])\n",
        "    mul[ax][bx] = val\n",
        "    mul[bx][ax] = val\n",
        "\n",
        "k = KMeans(K=divisions, max_iters=200, plot_steps=False)\n",
        "y_pred = k.predict(blob1)\n",
        "\n",
        "ct = 0\n",
        "out_img1 = np.zeros((a,b))\n",
        "for i in range(0,a):\n",
        "  for j in range(0,b):\n",
        "    out_img1[i][j] = y_pred[ct]*int(256/divisions)\n",
        "    ct = ct + 1\n",
        "\n",
        "cv2.imwrite('submarine_stage_3' + '.jpg', out_img1)"
      ],
      "metadata": {
        "colab": {
          "base_uri": "https://localhost:8080/"
        },
        "id": "_h3SxtCo9cQr",
        "outputId": "ad8acf53-45ab-4876-e5a4-867a28c09b1c"
      },
      "execution_count": null,
      "outputs": [
        {
          "output_type": "execute_result",
          "data": {
            "text/plain": [
              "True"
            ]
          },
          "metadata": {},
          "execution_count": 96
        }
      ]
    },
    {
      "cell_type": "code",
      "source": [
        "prods = np.loadtxt('result_pro_stage_4.txt', delimiter=',')\n",
        "prods.shape\n",
        "mul = np.zeros((256,256))\n",
        "for i in range(0,32640):\n",
        "    ax = int(prods[i][0])\n",
        "    bx = int(prods[i][1])\n",
        "    val = int(prods[i][2])\n",
        "    mul[ax][bx] = val\n",
        "    mul[bx][ax] = val\n",
        "\n",
        "k = KMeans(K=divisions, max_iters=200, plot_steps=False)\n",
        "y_pred = k.predict(blob1)\n",
        "\n",
        "ct = 0\n",
        "out_img1 = np.zeros((a,b))\n",
        "for i in range(0,a):\n",
        "  for j in range(0,b):\n",
        "    out_img1[i][j] = y_pred[ct]*int(256/divisions)\n",
        "    ct = ct + 1\n",
        "\n",
        "cv2.imwrite('submarine_stage_4' + '.jpg', out_img1)"
      ],
      "metadata": {
        "colab": {
          "base_uri": "https://localhost:8080/"
        },
        "id": "82QrqQA19yp_",
        "outputId": "660df94e-9797-413f-8dad-e8377b0d9ba2"
      },
      "execution_count": null,
      "outputs": [
        {
          "output_type": "execute_result",
          "data": {
            "text/plain": [
              "True"
            ]
          },
          "metadata": {},
          "execution_count": 97
        }
      ]
    },
    {
      "cell_type": "code",
      "source": [],
      "metadata": {
        "id": "vlSGHzf-lxrF"
      },
      "execution_count": null,
      "outputs": []
    }
  ],
  "metadata": {
    "colab": {
      "provenance": []
    },
    "gpuClass": "standard",
    "kernelspec": {
      "display_name": "Python 3",
      "name": "python3"
    },
    "language_info": {
      "name": "python"
    }
  },
  "nbformat": 4,
  "nbformat_minor": 0
}